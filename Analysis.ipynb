{
 "cells": [
  {
   "cell_type": "code",
   "execution_count": null,
   "metadata": {},
   "outputs": [],
   "source": [
    "import os\n",
    "import json\n",
    "from datetime import datetime as dt\n",
    "import plotly.graph_objects as go\n",
    "from tqdm.auto import tqdm"
   ]
  },
  {
   "cell_type": "code",
   "execution_count": null,
   "metadata": {},
   "outputs": [],
   "source": [
    "# path to extracted data\n",
    "DATA_DIR = '/home/mharoon/Desktop/HDD/Noyce/YouTube-Radicalizer/Analysis/puppets'\n",
    "PUPPETS = os.listdir(DATA_DIR)"
   ]
  },
  {
   "cell_type": "code",
   "execution_count": null,
   "metadata": {},
   "outputs": [],
   "source": [
    "counter = {}\n",
    "# count the number of sock puppets per day\n",
    "for puppet in tqdm(PUPPETS):\n",
    "    fp = os.path.join(DATA_DIR, puppet)\n",
    "    with open(fp) as f:\n",
    "        data = json.load(f)\n",
    "    \n",
    "    # parse end time in a unified format\n",
    "    end_time = dt.fromisoformat(data['start_time'])\n",
    "    end_time = end_time.strftime('%Y-%m-%d')\n",
    "    \n",
    "    counter[end_time] = counter.get(end_time, 0) + 1"
   ]
  },
  {
   "cell_type": "code",
   "execution_count": null,
   "metadata": {},
   "outputs": [],
   "source": [
    "dates = sorted(counter.keys())\n",
    "values = [counter[i] for i in dates]\n",
    "fig = go.Figure([go.Scatter(x=dates, y=values)])\n",
    "fig.update_xaxes(dict(\n",
    "    title='Date'\n",
    "))\n",
    "fig.update_yaxes(dict(\n",
    "    title='Number of Sock Puppets'\n",
    "))\n",
    "fig.show()"
   ]
  }
 ],
 "metadata": {
  "language_info": {
   "name": "python"
  }
 },
 "nbformat": 4,
 "nbformat_minor": 2
}
