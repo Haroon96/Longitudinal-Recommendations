{
 "cells": [
  {
   "cell_type": "code",
   "execution_count": 1,
   "metadata": {},
   "outputs": [],
   "source": [
    "import os\n",
    "import json\n",
    "from datetime import datetime as dt\n",
    "import plotly.graph_objects as go\n",
    "from tqdm.auto import tqdm"
   ]
  },
  {
   "cell_type": "code",
   "execution_count": 2,
   "metadata": {},
   "outputs": [],
   "source": [
    "# path to extracted data\n",
    "DATA_DIR = '/home/mharoon/Desktop/HDD/Noyce/YouTube-Radicalizer/Analysis/puppets'\n",
    "PUPPETS = os.listdir(DATA_DIR)"
   ]
  },
  {
   "cell_type": "code",
   "execution_count": null,
   "metadata": {},
   "outputs": [],
   "source": [
    "counter = {}\n",
    "# count the number of sock puppets per day\n",
    "for puppet in tqdm(PUPPETS):\n",
    "    fp = os.path.join(DATA_DIR, puppet)\n",
    "    with open(fp) as f:\n",
    "        data = json.load(f)\n",
    "\n",
    "    ideology = puppet.split(',')[0]\n",
    "    if ideology not in counter:\n",
    "        counter[ideology] = {}\n",
    "    \n",
    "    # parse end time in a unified format\n",
    "    end_time = dt.fromisoformat(data['start_time'])\n",
    "    end_time = end_time.strftime('%Y-%m-%d')\n",
    "    \n",
    "    counter[ideology][end_time] = counter[ideology].get(end_time, 0) + 1"
   ]
  },
  {
   "cell_type": "code",
   "execution_count": 4,
   "metadata": {},
   "outputs": [],
   "source": [
    "ideologies = ['Far Left', 'Left', 'Moderate', 'Right', 'Far Right']\n",
    "colors = ['blue', 'turquoise', 'purple', 'salmon', 'red']"
   ]
  },
  {
   "cell_type": "code",
   "execution_count": 9,
   "metadata": {},
   "outputs": [],
   "source": [
    "dates = sorted(counter.keys())\n",
    "values = [counter[i] for i in dates]\n",
    "\n",
    "plot_data = []\n",
    "for ideology, color in zip(ideologies, colors):\n",
    "    counts = counter[ideology]\n",
    "    dates = sorted(counts.keys())\n",
    "    values = [counts[i] for i in dates]\n",
    "    \n",
    "    plot_data.append(\n",
    "        go.Scatter(x=dates, y=values, name=ideology, marker=dict(color=color))\n",
    "    )\n",
    "\n",
    "fig = go.Figure(plot_data)\n",
    "fig.update_xaxes(dict(\n",
    "    title='Date'\n",
    "))\n",
    "fig.update_yaxes(dict(\n",
    "    title='Number of Sock Puppets'\n",
    "))\n",
    "fig.update_layout(dict(\n",
    "    title='Timeline of Data Collection'\n",
    "))\n",
    "fig.write_image('static/timeline.png', width=4*300, height=2*300, scale=1)"
   ]
  },
  {
   "cell_type": "code",
   "execution_count": null,
   "metadata": {},
   "outputs": [],
   "source": []
  }
 ],
 "metadata": {
  "kernelspec": {
   "display_name": "prc",
   "language": "python",
   "name": "python3"
  },
  "language_info": {
   "codemirror_mode": {
    "name": "ipython",
    "version": 3
   },
   "file_extension": ".py",
   "mimetype": "text/x-python",
   "name": "python",
   "nbconvert_exporter": "python",
   "pygments_lexer": "ipython3",
   "version": "3.12.2"
  }
 },
 "nbformat": 4,
 "nbformat_minor": 2
}
